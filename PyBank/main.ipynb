{
 "cells": [
  {
   "cell_type": "code",
   "execution_count": 5,
   "id": "2c61a7f4-74e0-4120-b8bc-097b14971049",
   "metadata": {},
   "outputs": [],
   "source": [
    "from pathlib import Path\n",
    "import csv"
   ]
  },
  {
   "cell_type": "code",
   "execution_count": 17,
   "id": "1b433886-4db0-4a65-8e95-bf17001d7708",
   "metadata": {},
   "outputs": [],
   "source": [
    "csv_path = Path(r\"C:\\Users\\samue\\OneDrive\\FINTECH BOOTCAMP\\Starter_Code\\PyBank\\Resources\\budget_data.csv\")\n",
    "\n",
    "with open(csv_path, \"r\") as budget_data:\n",
    "    csv_reader = csv.reader(budget_data, delimiter=\",\")\n",
    "    csv_header = next(csv_reader)"
   ]
  },
  {
   "cell_type": "code",
   "execution_count": null,
   "id": "385fd55d-99d2-4e50-9f95-582b03efc2f5",
   "metadata": {},
   "outputs": [],
   "source": []
  },
  {
   "cell_type": "code",
   "execution_count": null,
   "id": "d5e30e2c-1aba-4143-9704-6cde3d065241",
   "metadata": {},
   "outputs": [],
   "source": []
  },
  {
   "cell_type": "code",
   "execution_count": null,
   "id": "92930532-92ea-4b51-8115-999256bcd69d",
   "metadata": {},
   "outputs": [],
   "source": []
  },
  {
   "cell_type": "code",
   "execution_count": null,
   "id": "75f888cd-b021-4bf4-a501-85f31a153518",
   "metadata": {},
   "outputs": [],
   "source": []
  },
  {
   "cell_type": "code",
   "execution_count": null,
   "id": "7bd52242-d636-42d2-8a1e-74a65610727a",
   "metadata": {},
   "outputs": [],
   "source": [
    "########## THIS IS THE END OF THE CHALLENGE - to output to a txt file! ###############\n",
    "\n",
    "# Set the output file path\n",
    "output_path = Path(\"output.txt\")\n",
    "\n",
    "# Open the output_path as a file object in \"write\" mode ('w')\n",
    "# Write a header line and write the contents of 'text' to the file\n",
    "with open(output_path, 'w') as file:\n",
    "    file.write(\"This is an output file.\\n\")\n",
    "    file.write(text)\n"
   ]
  }
 ],
 "metadata": {
  "kernelspec": {
   "display_name": "Python 3 (ipykernel)",
   "language": "python",
   "name": "python3"
  },
  "language_info": {
   "codemirror_mode": {
    "name": "ipython",
    "version": 3
   },
   "file_extension": ".py",
   "mimetype": "text/x-python",
   "name": "python",
   "nbconvert_exporter": "python",
   "pygments_lexer": "ipython3",
   "version": "3.9.12"
  }
 },
 "nbformat": 4,
 "nbformat_minor": 5
}
