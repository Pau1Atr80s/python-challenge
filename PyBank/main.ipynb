{
 "cells": [
  {
   "cell_type": "code",
   "execution_count": 53,
   "id": "2c61a7f4-74e0-4120-b8bc-097b14971049",
   "metadata": {},
   "outputs": [],
   "source": [
    "# Importing Path module and csv module\n",
    "from pathlib import Path\n",
    "import csv\n"
   ]
  },
  {
   "cell_type": "code",
   "execution_count": 59,
   "id": "1b433886-4db0-4a65-8e95-bf17001d7708",
   "metadata": {},
   "outputs": [
    {
     "name": "stdout",
     "output_type": "stream",
     "text": [
      "\n",
      "\n",
      "FINANCIAL ANALYSIS - BUDGET DATA\n",
      "--------------------------------\n",
      "\n",
      "TOTAL MONTHS: 86\n",
      "\n",
      "TOTAL PROFIT or LOSS: $38,382,578\n",
      "\n",
      "AVERAGE PROFIT or LOSS: $-2315.12\n",
      "\n",
      "LARGEST PROFIT INCREASE: $1,926,159\n",
      "\n",
      "LARGEST PROFIT DECREASE: $-2,196,167\n",
      "\n",
      "\n"
     ]
    }
   ],
   "source": [
    "# Establishing CSV path\n",
    "csv_path = Path(r\"C:\\Users\\samue\\OneDrive\\FINTECH BOOTCAMP\\Starter_Code\\PyBank\\Resources\\budget_data.csv\")\n",
    "\n",
    "\n",
    "# Opening text file for future ouput\n",
    "txt_file_write = open(r\"C:\\Users\\samue\\OneDrive\\FINTECH BOOTCAMP\\python-challenge\\PyBank\\output.txt\", \"w\")\n",
    "\n",
    "\n",
    "# Initializing lists for holding CSV reader data\n",
    "months = []\n",
    "profits_or_losses = []\n",
    "\n",
    "# Opening CSV reader\n",
    "with open(csv_path, \"r\") as budget_data:\n",
    "    csv_reader = csv.reader(budget_data, delimiter=\",\")\n",
    "    csv_header = next(csv_reader)\n",
    "    \n",
    "    for row in csv_reader:\n",
    "        month = row[0]\n",
    "        profit_of_loss = int(row[1])\n",
    "\n",
    "        months.append(month)\n",
    "        profits_or_losses.append(profit_of_loss)\n",
    "\n",
    "    # Manipulating CSV data\n",
    "    total_months = len(months)\n",
    "\n",
    "    net_profit_loss = sum(profits_or_losses)\n",
    "\n",
    "    difference_current_previous_month = [profits_or_losses[i+1] - profits_or_losses[i] for i in range(len(profits_or_losses)-1)]\n",
    "\n",
    "    average_change = sum(difference_current_previous_month) / len(difference_current_previous_month)\n",
    "\n",
    "    greatest_increase = max(difference_current_previous_month)\n",
    "\n",
    "    greatest_decrease = min(difference_current_previous_month)\n",
    "\n",
    "# Printing out analysis in Jupyter notebook\n",
    "budget_data_analysis = f\"\"\"\n",
    "\n",
    "FINANCIAL ANALYSIS - BUDGET DATA\n",
    "--------------------------------\n",
    "\n",
    "TOTAL MONTHS: {total_months:,}\n",
    "\n",
    "TOTAL PROFIT or LOSS: ${net_profit_loss:,}\n",
    "\n",
    "AVERAGE PROFIT or LOSS: ${average_change: .2f}\n",
    "\n",
    "LARGEST PROFIT INCREASE: ${greatest_increase:,}\n",
    "\n",
    "LARGEST PROFIT DECREASE: ${greatest_decrease:,}\n",
    "\n",
    "\"\"\"\n",
    "\n",
    "print(budget_data_analysis)\n",
    "                             \n",
    "# Writing and outputting \"budget_data_analysis\" as a .txt file         \n",
    "txt_file_write.write(budget_data_analysis)\n",
    "\n",
    "# Closing the .txt file\n",
    "txt_file_write.close()\n"
   ]
  },
  {
   "cell_type": "code",
   "execution_count": null,
   "id": "5ebe0aeb-a59c-4921-a560-92086b4cc58b",
   "metadata": {},
   "outputs": [],
   "source": []
  }
 ],
 "metadata": {
  "kernelspec": {
   "display_name": "Python 3.10.5 64-bit (windows store)",
   "language": "python",
   "name": "python3"
  },
  "language_info": {
   "codemirror_mode": {
    "name": "ipython",
    "version": 3
   },
   "file_extension": ".py",
   "mimetype": "text/x-python",
   "name": "python",
   "nbconvert_exporter": "python",
   "pygments_lexer": "ipython3",
   "version": "3.10.5"
  },
  "vscode": {
   "interpreter": {
    "hash": "12bacb19619b0d7f9afdf185f611b604bd918747e38ed48a19e12a1e72143883"
   }
  }
 },
 "nbformat": 4,
 "nbformat_minor": 5
}
